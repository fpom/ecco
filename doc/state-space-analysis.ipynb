{
 "cells": [
  {
   "cell_type": "markdown",
   "metadata": {},
   "source": [
    "# `ecco` state-space analysis\n",
    "\n",
    "In this notebook, we see how the state-space of a `rr` model can be computed and analysed symbolically. By _symbolically_ we refer to the use of decision diagrams to represent sets of states in a compact way. More specifically, `ecco` uses [`libDDD` and `libITS`](https://lip6.github.io/ITSTools-web) as its basis for state-space representation and computation. The main benefit of such symbolic methods is that `ecco` can handle very large state-spaces, for models with tens of variables and more, while always maintaining a readable view of the model. However, a consequence is that the individual states are not shown during the analysis. (Another notebook will show how `ecco` can handle explicit state-spaces, that is state-space representations in which individual states are explicitely enumerated.)\n",
    "\n",
    "## Building and displaying a view\n",
    "\n",
    "To start with, as usual, we run `ecco` and load a `rr` model:"
   ]
  },
  {
   "cell_type": "code",
   "execution_count": 1,
   "metadata": {},
   "outputs": [],
   "source": [
    "%run -m ecco termites.rr"
   ]
  },
  {
   "cell_type": "markdown",
   "metadata": {},
   "source": [
    "Object `model` created by `ecco` can be called as a function, in which case it returns a component view object that allows to explore the models' state space (that is, a component graph). This call requires one argument that is a name for the view (which will be used to save its files). Additional arguments may be provided:\n",
    " * `force=True` (default is `False`) to force recomputing all the data associated with the view\n",
    " * `compact=False` (default is `True`) to keep the transient states and constraints occurrences in the state space\n",
    " \n",
    "On the first call (or when `force=True`), quite a lot of computation is performed and may take some time:\n",
    " * the `rr` model is compiled to an optimised library for faster execution \n",
    " * the symbolic state space is fully computed\n",
    " * a basic decomposition is performed extracting various pairwise-disjoint components (each of which may be empty):\n",
    "   * _hull_ contains all the SCC and the states connecting them\n",
    "   * _head_ contains all the states leading to _hull_\n",
    "   * _tail_ contains all the states that are reachable from _hull_\n",
    "   * _skip_ contains all the states that connect _head_ to _tail_ without going through _hull_\n",
    "   * _rest_ contains all the other states (for instance, deadlocks reachable from _head_ or _skip_ but not from _hull_)\n",
    " * these sets of states are called _components_ and form a _component graphs_ that is saved to the disk into CSV files\n",
    " * the content of these tables is available as `.nodes` and `.edges` attributes of the view"
   ]
  },
  {
   "cell_type": "code",
   "execution_count": 2,
   "metadata": {
    "scrolled": true
   },
   "outputs": [
    {
     "data": {
      "application/vnd.jupyter.widget-view+json": {
       "model_id": "",
       "version_major": 2,
       "version_minor": 0
      },
      "text/plain": [
       "HBox(children=(HTML(value='<b>compiling</b>'), HTML(value='termites.rr')))"
      ]
     },
     "metadata": {},
     "output_type": "display_data"
    },
    {
     "data": {
      "application/vnd.jupyter.widget-view+json": {
       "model_id": "",
       "version_major": 2,
       "version_minor": 0
      },
      "text/plain": [
       "HBox(children=(HTML(value='builing transition relations'), IntProgress(value=0, bar_style='info', max=3), HTML…"
      ]
     },
     "metadata": {},
     "output_type": "display_data"
    },
    {
     "data": {
      "application/vnd.jupyter.widget-view+json": {
       "model_id": "45288c776d764e53ba82f2fd1da253ab",
       "version_major": 2,
       "version_minor": 0
      },
      "text/plain": [
       "HBox(children=(HTML(value='<b>loading</b>'), IntProgress(value=0, bar_style='info', max=2), HTML(value='termit…"
      ]
     },
     "metadata": {},
     "output_type": "display_data"
    }
   ],
   "source": [
    "v = model(\"tuto\", compact=False)"
   ]
  },
  {
   "cell_type": "markdown",
   "metadata": {},
   "source": [
    "A view may be drawn, yielding an interactive graph with additional information:\n",
    " * default nodes shapes are:\n",
    "   * circles for SCC\n",
    "   * squares for components that contain deadlocks\n",
    "   * rounded squares for all the other components\n",
    " * some nodes may be marked with a small badge:\n",
    "   * a circle for nodes that are SCC hull\n",
    "   * a triangle for nodes that contain an initial states\n",
    " * default color reflects the components size (green for the smaller ones and red for the larger ones)\n",
    "   \n",
    "Remember to use `v.draw?` to see the method documentation."
   ]
  },
  {
   "cell_type": "code",
   "execution_count": 3,
   "metadata": {
    "scrolled": false
   },
   "outputs": [
    {
     "data": {
      "application/vnd.jupyter.widget-view+json": {
       "model_id": "a4d70f86d9a84742bdf40965e87d8e11",
       "version_major": 2,
       "version_minor": 0
      },
      "text/plain": [
       "VBox(children=(HBox(children=(Dropdown(description='Layout', index=2, options=('PCA', 'dot', 'neato', 'fdp', '…"
      ]
     },
     "metadata": {},
     "output_type": "display_data"
    }
   ],
   "source": [
    "v.draw(fig_height=300)"
   ]
  },
  {
   "cell_type": "markdown",
   "metadata": {},
   "source": [
    "Information about the components (node) and the edges between them is available by selecting nodes in the graph, or directly through the tables `v.nodes` and `v.edges`.\n",
    "\n",
    "## Statistical information about components\n",
    "\n",
    "Method `v.count` allows to count for each component and each variable how many states have this variable on. If no argument is provided to `v.count`, it computes this for every component, otherwise, it expects the list of components for which the information has to be computed:"
   ]
  },
  {
   "cell_type": "code",
   "execution_count": 4,
   "metadata": {},
   "outputs": [
    {
     "data": {
      "text/html": [
       "<div>\n",
       "<style scoped>\n",
       "    .dataframe tbody tr th:only-of-type {\n",
       "        vertical-align: middle;\n",
       "    }\n",
       "\n",
       "    .dataframe tbody tr th {\n",
       "        vertical-align: top;\n",
       "    }\n",
       "\n",
       "    .dataframe thead th {\n",
       "        text-align: right;\n",
       "    }\n",
       "</style>\n",
       "<table border=\"1\" class=\"dataframe\">\n",
       "  <thead>\n",
       "    <tr style=\"text-align: right;\">\n",
       "      <th></th>\n",
       "      <th>Ac</th>\n",
       "      <th>Ec</th>\n",
       "      <th>Fg</th>\n",
       "      <th>Rp</th>\n",
       "      <th>Sd</th>\n",
       "      <th>Te</th>\n",
       "      <th>Wd</th>\n",
       "      <th>Wk</th>\n",
       "    </tr>\n",
       "  </thead>\n",
       "  <tbody>\n",
       "    <tr>\n",
       "      <th>0</th>\n",
       "      <td>10</td>\n",
       "      <td>10</td>\n",
       "      <td>8</td>\n",
       "      <td>10</td>\n",
       "      <td>4</td>\n",
       "      <td>4</td>\n",
       "      <td>2</td>\n",
       "      <td>7</td>\n",
       "    </tr>\n",
       "    <tr>\n",
       "      <th>1</th>\n",
       "      <td>1</td>\n",
       "      <td>0</td>\n",
       "      <td>0</td>\n",
       "      <td>1</td>\n",
       "      <td>0</td>\n",
       "      <td>0</td>\n",
       "      <td>0</td>\n",
       "      <td>0</td>\n",
       "    </tr>\n",
       "    <tr>\n",
       "      <th>2</th>\n",
       "      <td>14</td>\n",
       "      <td>7</td>\n",
       "      <td>6</td>\n",
       "      <td>0</td>\n",
       "      <td>0</td>\n",
       "      <td>8</td>\n",
       "      <td>6</td>\n",
       "      <td>0</td>\n",
       "    </tr>\n",
       "  </tbody>\n",
       "</table>\n",
       "</div>"
      ],
      "text/plain": [
       "   Ac  Ec  Fg  Rp  Sd  Te  Wd  Wk\n",
       "0  10  10   8  10   4   4   2   7\n",
       "1   1   0   0   1   0   0   0   0\n",
       "2  14   7   6   0   0   8   6   0"
      ]
     },
     "execution_count": 4,
     "metadata": {},
     "output_type": "execute_result"
    }
   ],
   "source": [
    "v.count()"
   ]
  },
  {
   "cell_type": "markdown",
   "metadata": {},
   "source": [
    "This returns a `pandas.DataFrame` whose columns are the variables and whose index (the left-most column withot title) are the components numbers. It is possible to compute a PCA on this table using `v.pca()`. Note also that PCA is one of the layout engines proposed for the graphs of views: it sets the position of nodes according to the result of `v.pca`, considering the first factor as the `x` position and the second factor as the `y` position."
   ]
  },
  {
   "cell_type": "code",
   "execution_count": 15,
   "metadata": {},
   "outputs": [
    {
     "data": {
      "text/html": [
       "<div>\n",
       "<style scoped>\n",
       "    .dataframe tbody tr th:only-of-type {\n",
       "        vertical-align: middle;\n",
       "    }\n",
       "\n",
       "    .dataframe tbody tr th {\n",
       "        vertical-align: top;\n",
       "    }\n",
       "\n",
       "    .dataframe thead th {\n",
       "        text-align: right;\n",
       "    }\n",
       "</style>\n",
       "<table border=\"1\" class=\"dataframe\">\n",
       "  <thead>\n",
       "    <tr style=\"text-align: right;\">\n",
       "      <th></th>\n",
       "      <th>0</th>\n",
       "      <th>1</th>\n",
       "    </tr>\n",
       "  </thead>\n",
       "  <tbody>\n",
       "    <tr>\n",
       "      <td>0</td>\n",
       "      <td>-2.326425</td>\n",
       "      <td>-1.663681</td>\n",
       "    </tr>\n",
       "    <tr>\n",
       "      <td>1</td>\n",
       "      <td>2.993072</td>\n",
       "      <td>-0.754523</td>\n",
       "    </tr>\n",
       "    <tr>\n",
       "      <td>2</td>\n",
       "      <td>-0.666646</td>\n",
       "      <td>2.418204</td>\n",
       "    </tr>\n",
       "  </tbody>\n",
       "</table>\n",
       "</div>"
      ],
      "text/plain": [
       "          0         1\n",
       "0 -2.326425 -1.663681\n",
       "1  2.993072 -0.754523\n",
       "2 -0.666646  2.418204"
      ]
     },
     "execution_count": 15,
     "metadata": {},
     "output_type": "execute_result"
    }
   ],
   "source": [
    "v.pca()"
   ]
  },
  {
   "cell_type": "markdown",
   "metadata": {},
   "source": [
    "## Splitting components\n",
    "\n",
    "A component may be split in two according to the valuation of its states variables. For instance below, we split component `2` by telling apart those states in which `Sd` in on from those in which `Sd` is off. The former will become the new component `2` while the latter will go to a new component (that will be numbered `3`)."
   ]
  },
  {
   "cell_type": "code",
   "execution_count": 5,
   "metadata": {},
   "outputs": [
    {
     "data": {
      "application/vnd.jupyter.widget-view+json": {
       "model_id": "df7e0f507abf4b28a3e24d7016bac635",
       "version_major": 2,
       "version_minor": 0
      },
      "text/plain": [
       "HBox(children=(HTML(value='splitting'), IntProgress(value=0, bar_style='info', max=4), HTML(value='compiling e…"
      ]
     },
     "metadata": {},
     "output_type": "display_data"
    },
    {
     "data": {
      "application/vnd.jupyter.widget-view+json": {
       "model_id": "3c89967cabfd4460b9fd66df055abb19",
       "version_major": 2,
       "version_minor": 0
      },
      "text/plain": [
       "HTML(value='<p style=\"line-height:140%\"><span style=\"color:#000088; font-weight:bold;\">info</span> detected CT…"
      ]
     },
     "metadata": {},
     "output_type": "display_data"
    }
   ],
   "source": [
    "v.split(0, \"Sd\")"
   ]
  },
  {
   "cell_type": "code",
   "execution_count": 8,
   "metadata": {},
   "outputs": [
    {
     "data": {
      "application/vnd.jupyter.widget-view+json": {
       "model_id": "1313e5ea7407462585cbbea8ad3ff272",
       "version_major": 2,
       "version_minor": 0
      },
      "text/plain": [
       "VBox(children=(HBox(children=(Dropdown(description='Layout', index=2, options=('PCA', 'dot', 'neato', 'fdp', '…"
      ]
     },
     "metadata": {},
     "output_type": "display_data"
    }
   ],
   "source": [
    "v.draw()"
   ]
  },
  {
   "cell_type": "markdown",
   "metadata": {},
   "source": [
    "When called with no split criterion as second argument, `split` will perform a basic decomposition of the component, just like the state space was initially decomposed (into hull, head, tail, skip, and rest). Moreover, if the split criterion is provided and `normalise=True` also, every component resulting from the split will be further examined for such a basic decomposition.\n",
    "\n",
    "In general, the split criterion may be an expression using one of the following syntaxes:\n",
    " * CTL formulas\n",
    " * ARCTL formulas\n",
    " * states formulas\n",
    "\n",
    "Note that the syntax is automatically detected and `ecco` shows which syntax it has detected and used.\n",
    " \n",
    "### CTL formulas\n",
    "\n",
    "CTL (Computation Tree Logic) is a temporal logic that allows to characterise states with respect to what happens or not in the states that are reachable in the future. A formula can be seen as a statement about a state `s`, that is validated by exploring the states reachable from `s`. When a CTL formula is used to split a component, `ecco` separates the states that validate the formula from those that does not and splits the component accordingly. CTL formulas have to respect the following syntax:\n",
    " * atoms are variable names, they may be quoted as in `\"AG\"` or `'EX'` to avoid conflicts with reserved keywords of CTL, sucha formula is true on every state where the variable is on\n",
    " * sub-formulas may be enclosed into parentheses to force operators priority\n",
    " * Boolean operators can be used to combine sub-formulas:\n",
    "   * `~form` (NOT) is a formulat that holds on states where `form` does not\n",
    "   * `left & right` (AND) holds on states where both `left` and `right` sub-formulas do\n",
    "   * `left | right` (OR) holds on states where either `left` or `right` sub-formulas does, possibly both\n",
    "   * `left => right` (IMPLY) holds on states where when `left` holds then `right` has to hold also, this is actually a shorthand for `~left | right`\n",
    "   * `left <=> right` (IFF) is a shorthand for `(left => right) & (right => left)`\n",
    " * modalities allow to express conditions with respect to the future of states: `X` (NEXT), `F` (FUTURE), `G` (GLOBALLY), `U` (UNTIL), and `R` (RELEASE). Each modality must be quantified by either `A` (ALWAYS), or `E` (EXISTS). So a formula may be either:\n",
    "   * `A path` holds on a state `s` if `path` does on all path starting from `s`\n",
    "   * `E path` holds on a state `s` if `path` does on one paths starting from `s`\n",
    "   \n",
    "   `path` must then be a path formula, that is one formula qualified with a unary modality of two formulas connected by a binary modality:\n",
    "   * `X form` holds if `form` holds on the next state\n",
    "   * `F form` holds if `form` holds eventually in the future\n",
    "   * `G form` holds if `form` holds from now on and forever\n",
    "   * `left U right` holds if `left` holds until `right` holds forever\n",
    "   * `left R right` holds if `right` holds until a state where `left` holds is reached, but then `left` or `right` are not required to hold anymore\n",
    "\n",
    "#### Examples\n",
    "\n",
    " * `AX Sd` (_all the next states have soldiers_) selects all the states from which the next state alway has `Sd` on\n",
    " * **TODO**\n",
    "\n",
    "### ARCTL formulas\n",
    "\n",
    "ARCTL is a variant of CTL where quantifiers apply to a subset of actions. For instance `A{a|b}X Sd` is like `AX Sd` but only considering actions `a` or `b`. These actions are specified in the `rr` model by adding labels to rules or constraints, for instance in our termites model, we could label some rules with a letter indicating the main actor involved into each rule:\n",
    "\n",
    "```\n",
    "    [r] Rp+ >> Ec+\n",
    "    [r] Rp+, Ec+ >> Wk+\n",
    "    [w] Wk+ >> Wd+, Te+, Fg+, Ec+\n",
    "    [w] Wk+, Wd+ >> Sd+, Rp+\n",
    "    [w] Wk+, Te+ >> Wd-\n",
    "        Wd- >> Wk-, Te-\n",
    "        Wk- >> Fg-, Sd-\n",
    "        Wk-, Rp- >> Ec-\n",
    "    [a] Ac+, Sd- >> Wk-, Rp-\n",
    "\n",
    "```\n",
    "\n",
    "In general, labels are indicated into square brackets and are given as a comma separated list of words. For instance `[foo,bar,42]` would label a rule with actions`foo`, `bar`, and `42`. Actions are optional both in the `rr` syntax and the ARCTL syntax. In ARCTL, actions are specified through Boolean expressions constructed using the actions as atoms connected with the Boolean operators `&`, `|`, `=>`, `<=>`, and `~`, as well as parentheses.\n",
    "\n",
    "#### Examples\n",
    "\n",
    " * **TODO**\n",
    "\n",
    "### States formulas\n",
    "\n",
    "A state formula allows to select a sets of states based on their features, but, contrary to (AR)CTL, with no reference to the successor states in the execution. Syntax is as follows:\n",
    " * the atoms are\n",
    "   * a variable name as `Wk` which means that we want all the states in which `Wk` is on\n",
    "   * a rule name as `R3` (or a constraint name as `C1`) which means that we want all the states in which the rule is enabled (ie, may be executed)\n",
    " * the operations are\n",
    "   * `~expr` (NOT) which mean that we want all the states that are not represented by `expr`\n",
    "   * `left | right` (OR) which means that we want all the states that are in `left`, `right`, or both\n",
    "   * `left & right` (AND) which means that we want all the states that are both in `left` and `right`\n",
    "   * `left ^ right` (XOR) which means that we want all the states that are either in `left` or `right` but not in both\n",
    "   * `(expr)` to group sub-expressions and enforce operators priorities\n",
    "   \n",
    "#### Examples\n",
    "\n",
    " * `(Rp & ~Wk) | (R2 & ~R1)` represents all the states in which `Rp` is on and `Wk` of, plus all the states from which `R2` but not `R1` can be executed\n",
    "\n",
    "### Fairness constraints\n",
    "\n",
    "**TODO**\n",
    "\n",
    "## Merging components\n",
    "\n",
    "Components may be also merged using method `merge` whose arguments are the components numbers to be merged. The resulting component will replace the first provided, inheriting its number. So below, `0` and `4` are merged into component `0`."
   ]
  },
  {
   "cell_type": "code",
   "execution_count": 9,
   "metadata": {
    "scrolled": true
   },
   "outputs": [
    {
     "data": {
      "application/vnd.jupyter.widget-view+json": {
       "model_id": "95a964ddb1124930911e63941c9f2cee",
       "version_major": 2,
       "version_minor": 0
      },
      "text/plain": [
       "HBox(children=(HTML(value='merging'), IntProgress(value=0, bar_style='info', max=2), HTML(value='merging compo…"
      ]
     },
     "metadata": {},
     "output_type": "display_data"
    }
   ],
   "source": [
    "v.merge(1,3)"
   ]
  },
  {
   "cell_type": "code",
   "execution_count": 10,
   "metadata": {
    "scrolled": false
   },
   "outputs": [
    {
     "data": {
      "application/vnd.jupyter.widget-view+json": {
       "model_id": "3092179caeac4f85bed28aef9467d190",
       "version_major": 2,
       "version_minor": 0
      },
      "text/plain": [
       "VBox(children=(HBox(children=(Dropdown(description='Layout', index=2, options=('PCA', 'dot', 'neato', 'fdp', '…"
      ]
     },
     "metadata": {},
     "output_type": "display_data"
    }
   ],
   "source": [
    "v.draw(fig_height=300)"
   ]
  },
  {
   "cell_type": "markdown",
   "metadata": {},
   "source": [
    "## Workflow\n",
    "\n",
    "Using splits and merges is the basic way of progressively decomposing a state-space into a graph that makes sense and exhibits interesting properties. Another useful feature is the ability to drop a component: `v.drop(0)` completely remove component `0`, `v.drop(1,3)` removes components `1` and `3`, etc.\n",
    "\n",
    "Another useful method is `v.save()` that saves the current state of a component graph into a pair of CSV files (one for the nodes and one for the edges)."
   ]
  },
  {
   "cell_type": "code",
   "execution_count": null,
   "metadata": {},
   "outputs": [],
   "source": []
  }
 ],
 "metadata": {
  "kernelspec": {
   "display_name": "Python 3",
   "language": "python",
   "name": "python3"
  },
  "language_info": {
   "codemirror_mode": {
    "name": "ipython",
    "version": 3
   },
   "file_extension": ".py",
   "mimetype": "text/x-python",
   "name": "python",
   "nbconvert_exporter": "python",
   "pygments_lexer": "ipython3",
   "version": "3.8.8"
  }
 },
 "nbformat": 4,
 "nbformat_minor": 2
}
