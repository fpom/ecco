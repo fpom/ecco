{
 "cells": [
  {
   "cell_type": "markdown",
   "metadata": {},
   "source": [
    "# `ecco` state-space analysis\n",
    "\n",
    "In this notebook, we see how the state-space of a `rr` model can be computed and analysed symbolically. By _symbolically_ we refer to the use of decision diagrams to represent sets of states in a compact way. More specifically, `ecco` uses [`libDDD` and `libITS`](https://lip6.github.io/ITSTools-web) as its basis for state-space representation and computation. The main benefit of such symbolic methods is that `ecco` can handle very large state-spaces, for models with tens of variables and more, while always maintaining a readable view of the model. However, a consequence is that the individual states are not shown during the analysis. (Another notebook will show how `ecco` can handle explicit state-spaces, that is state-space representations in which individual states are explicitely enumerated.)\n",
    "\n",
    "## Building and displaying a view\n",
    "\n",
    "To start with, as usual, we run `ecco` and load a `rr` model:"
   ]
  },
  {
   "cell_type": "code",
   "execution_count": 1,
   "metadata": {},
   "outputs": [],
   "source": [
    "%run -m ecco termites.rr"
   ]
  },
  {
   "cell_type": "markdown",
   "metadata": {},
   "source": [
    "Object `model` created by `ecco` can be called as a function, in which case it returns a component graph object that allows to explore the models' state space. Optional arguments may be provided:\n",
    " * `compact=False` (default is `True`) to keep the transient states and constraints occurrences in the state space\n",
    " * `init` specifies an initial states of the LTS. If not provided, take them from the model. Otherwise, it must be a string containing a comma-separated sequence of states assignements, that is interpreted as successive assignements starting from the initial states specified in the model. Each assignement be either:\n",
    "   - `*`: take all the potential states (so called universe)\n",
    "   - `+`: set all variables to `+`\n",
    "   - `-`: set all variables to `-`\n",
    "   - `VARx`, where `VAR` is a variable name and `x` is a sign in `+`, `-`, or `*`: set variable as specified by the sign\n",
    "   \n",
    "   For instance, `init=\"*,Ac+,Wk-` selects all the potential states restricted to those where `Ac` is `+` and `Wk` is `-`. A list of such strings may be used, in which case the union of the\n",
    "   corresponding sets of states is considered.\n",
    " - `split` (default is `True`): should the graph be initially split into its initial states, SCC hull, and deadlocks+basins"
   ]
  },
  {
   "cell_type": "code",
   "execution_count": 2,
   "metadata": {
    "scrolled": true
   },
   "outputs": [
    {
     "data": {
      "application/vnd.jupyter.widget-view+json": {
       "model_id": "",
       "version_major": 2,
       "version_minor": 0
      },
      "text/plain": [
       "HBox(children=(HTML(value='<b>saving</b>'), HTML(value='termites/termites.gal')))"
      ]
     },
     "metadata": {},
     "output_type": "display_data"
    }
   ],
   "source": [
    "g = model(compact=False)"
   ]
  },
  {
   "cell_type": "markdown",
   "metadata": {},
   "source": [
    "A component graph may be drawn, yielding an interactive graph with additional information:\n",
    " * default nodes shapes are:\n",
    "   * circles for SCC\n",
    "   * squares for components that contain deadlocks\n",
    "   * rounded squares for all the other components\n",
    " * some nodes may be marked with a small badge:\n",
    "   * a circle for nodes that are SCC hull\n",
    "   * a triangle for nodes that contain an initial states\n",
    " * default color reflects the components size (green for the smaller ones and red for the larger ones)\n",
    "   \n",
    "Remember to use `g.draw?` to see the method documentation."
   ]
  },
  {
   "cell_type": "code",
   "execution_count": 3,
   "metadata": {
    "scrolled": false
   },
   "outputs": [
    {
     "data": {
      "application/vnd.jupyter.widget-view+json": {
       "model_id": "2eb6800eb56e41e787a0e5207a113fce",
       "version_major": 2,
       "version_minor": 0
      },
      "text/plain": [
       "VBox(children=(HBox(children=(Dropdown(description='Layout', index=2, options=('PCA', 'dot', 'neato', 'fdp', '…"
      ]
     },
     "metadata": {},
     "output_type": "display_data"
    }
   ],
   "source": [
    "g.draw(fig_height=300)"
   ]
  },
  {
   "cell_type": "markdown",
   "metadata": {},
   "source": [
    "Information about the components (node) and the edges between them is available by selecting nodes in the graph, or directly through the tables `g.nodes` and `g.edges`.\n",
    "\n",
    "## Statistical information about components\n",
    "\n",
    "Method `g.count` allows to count for each component and each variable how many states have this variable on. If no argument is provided to `g.count`, it computes this for every component, otherwise, it expects the list of components for which the information has to be computed:"
   ]
  },
  {
   "cell_type": "code",
   "execution_count": 4,
   "metadata": {},
   "outputs": [
    {
     "data": {
      "text/html": [
       "<div>\n",
       "<style scoped>\n",
       "    .dataframe tbody tr th:only-of-type {\n",
       "        vertical-align: middle;\n",
       "    }\n",
       "\n",
       "    .dataframe tbody tr th {\n",
       "        vertical-align: top;\n",
       "    }\n",
       "\n",
       "    .dataframe thead th {\n",
       "        text-align: right;\n",
       "    }\n",
       "</style>\n",
       "<table border=\"1\" class=\"dataframe\">\n",
       "  <thead>\n",
       "    <tr style=\"text-align: right;\">\n",
       "      <th></th>\n",
       "      <th>Ac</th>\n",
       "      <th>Ec</th>\n",
       "      <th>Fg</th>\n",
       "      <th>Rp</th>\n",
       "      <th>Sd</th>\n",
       "      <th>Te</th>\n",
       "      <th>Wd</th>\n",
       "      <th>Wk</th>\n",
       "    </tr>\n",
       "  </thead>\n",
       "  <tbody>\n",
       "    <tr>\n",
       "      <th>1</th>\n",
       "      <td>0</td>\n",
       "      <td>0</td>\n",
       "      <td>0</td>\n",
       "      <td>0</td>\n",
       "      <td>0</td>\n",
       "      <td>1</td>\n",
       "      <td>0</td>\n",
       "      <td>1</td>\n",
       "    </tr>\n",
       "    <tr>\n",
       "      <th>2</th>\n",
       "      <td>2</td>\n",
       "      <td>7</td>\n",
       "      <td>4</td>\n",
       "      <td>4</td>\n",
       "      <td>8</td>\n",
       "      <td>10</td>\n",
       "      <td>10</td>\n",
       "      <td>10</td>\n",
       "    </tr>\n",
       "    <tr>\n",
       "      <th>3</th>\n",
       "      <td>6</td>\n",
       "      <td>0</td>\n",
       "      <td>0</td>\n",
       "      <td>8</td>\n",
       "      <td>6</td>\n",
       "      <td>0</td>\n",
       "      <td>7</td>\n",
       "      <td>14</td>\n",
       "    </tr>\n",
       "  </tbody>\n",
       "</table>\n",
       "</div>"
      ],
      "text/plain": [
       "   Ac  Ec  Fg  Rp  Sd  Te  Wd  Wk\n",
       "1   0   0   0   0   0   1   0   1\n",
       "2   2   7   4   4   8  10  10  10\n",
       "3   6   0   0   8   6   0   7  14"
      ]
     },
     "execution_count": 4,
     "metadata": {},
     "output_type": "execute_result"
    }
   ],
   "source": [
    "g.count()"
   ]
  },
  {
   "cell_type": "markdown",
   "metadata": {},
   "source": [
    "This returns a `pandas.DataFrame` whose columns are the variables and whose index (the left-most column withot title) are the components numbers. It is possible to compute a PCA on this table using `g.pca()`. Note also that PCA is one of the layout engines proposed for the graphs of views: it sets the position of nodes according to the result of `g.pca`, considering the first factor as the `x` position and the second factor as the `y` position."
   ]
  },
  {
   "cell_type": "code",
   "execution_count": 5,
   "metadata": {},
   "outputs": [
    {
     "data": {
      "text/html": [
       "<div>\n",
       "<style scoped>\n",
       "    .dataframe tbody tr th:only-of-type {\n",
       "        vertical-align: middle;\n",
       "    }\n",
       "\n",
       "    .dataframe tbody tr th {\n",
       "        vertical-align: top;\n",
       "    }\n",
       "\n",
       "    .dataframe thead th {\n",
       "        text-align: right;\n",
       "    }\n",
       "</style>\n",
       "<table border=\"1\" class=\"dataframe\">\n",
       "  <thead>\n",
       "    <tr style=\"text-align: right;\">\n",
       "      <th></th>\n",
       "      <th>0</th>\n",
       "      <th>1</th>\n",
       "    </tr>\n",
       "  </thead>\n",
       "  <tbody>\n",
       "    <tr>\n",
       "      <th>1</th>\n",
       "      <td>2.993072</td>\n",
       "      <td>-0.754523</td>\n",
       "    </tr>\n",
       "    <tr>\n",
       "      <th>2</th>\n",
       "      <td>-2.326425</td>\n",
       "      <td>-1.663681</td>\n",
       "    </tr>\n",
       "    <tr>\n",
       "      <th>3</th>\n",
       "      <td>-0.666646</td>\n",
       "      <td>2.418204</td>\n",
       "    </tr>\n",
       "  </tbody>\n",
       "</table>\n",
       "</div>"
      ],
      "text/plain": [
       "          0         1\n",
       "1  2.993072 -0.754523\n",
       "2 -2.326425 -1.663681\n",
       "3 -0.666646  2.418204"
      ]
     },
     "execution_count": 5,
     "metadata": {},
     "output_type": "execute_result"
    }
   ],
   "source": [
    "g.pca()"
   ]
  },
  {
   "cell_type": "markdown",
   "metadata": {},
   "source": [
    "## Splitting components\n",
    "\n",
    "Components may be split in two according to some properties. In it's simplest form, a property is a variable. For instance below, we split the components of `g` by telling apart those states in which `Sd` in on from those in which `Sd` is off. This yields a new component graphs that we can draw in turn."
   ]
  },
  {
   "cell_type": "code",
   "execution_count": 6,
   "metadata": {},
   "outputs": [
    {
     "data": {
      "application/vnd.jupyter.widget-view+json": {
       "model_id": "723e1c07a7cd4f33985373d67b553d6a",
       "version_major": 2,
       "version_minor": 0
      },
      "text/plain": [
       "VBox(children=(HBox(children=(Dropdown(description='Layout', index=2, options=('PCA', 'dot', 'neato', 'fdp', '…"
      ]
     },
     "metadata": {},
     "output_type": "display_data"
    }
   ],
   "source": [
    "g2 = g.split(\"Sd\")\n",
    "g2.draw(fig_height=300)"
   ]
  },
  {
   "cell_type": "markdown",
   "metadata": {},
   "source": [
    "From the components' numbers we known that only component `2` has been split into `4` and `5`. Indeed, the component numbers stay consistent among the various graphs one may build and if two components have the same number, we can be sure that hold exactly the same states.\n",
    "\n",
    "In general, the split formula may be an expression using one of the following syntaxes:\n",
    " * CTL formulas\n",
    " * ARCTL formulas\n",
    " * states formulas\n",
    "\n",
    "Note that the syntax is automatically detected and `ecco` shows which syntax it has detected and used.\n",
    " \n",
    "### CTL formulas\n",
    "\n",
    "CTL (Computation Tree Logic) is a temporal logic that allows to characterise states with respect to what happens or not in the states that are reachable in the future. A formula can be seen as a statement about a state `s`, that is validated by exploring the states reachable from `s`. When a CTL formula is used to split a component, `ecco` separates the states that validate the formula from those that does not and splits the component accordingly. CTL formulas have to respect the following syntax:\n",
    " * atoms are variable names, they may be quoted as in `\"AG\"` or `'EX'` to avoid conflicts with reserved keywords of CTL, sucha formula is true on every state where the variable is on\n",
    " * sub-formulas may be enclosed into parentheses to force operators priority\n",
    " * Boolean operators can be used to combine sub-formulas:\n",
    "   * `~form` (NOT) is a formulat that holds on states where `form` does not\n",
    "   * `left & right` (AND) holds on states where both `left` and `right` sub-formulas do\n",
    "   * `left | right` (OR) holds on states where either `left` or `right` sub-formulas does, possibly both\n",
    "   * `left => right` (IMPLY) holds on states where when `left` holds then `right` has to hold also, this is actually a shorthand for `~left | right`\n",
    "   * `left <=> right` (IFF) is a shorthand for `(left => right) & (right => left)`\n",
    " * modalities allow to express conditions with respect to the future of states: `X` (NEXT), `F` (FUTURE), `G` (GLOBALLY), `U` (UNTIL), and `R` (RELEASE). Each modality must be quantified by either `A` (ALWAYS), or `E` (EXISTS). So a formula may be either:\n",
    "   * `A path` holds on a state `s` if `path` does on all path starting from `s`\n",
    "   * `E path` holds on a state `s` if `path` does on one paths starting from `s`\n",
    "   \n",
    "   `path` must then be a path formula, that is one formula qualified with a unary modality of two formulas connected by a binary modality:\n",
    "   * `X form` holds if `form` holds on the next state\n",
    "   * `F form` holds if `form` holds eventually in the future\n",
    "   * `G form` holds if `form` holds from now on and forever\n",
    "   * `left U right` holds if `left` holds until `right` holds forever\n",
    "   * `left R right` holds if `right` holds until a state where `left` holds is reached, but then `left` or `right` are not required to hold anymore\n",
    "\n",
    "#### Examples\n",
    "\n",
    " * `AX Sd` (_all the next states have soldiers_) selects all the states from which the next state alway has `Sd` on\n",
    " * **TODO**\n",
    "\n",
    "### ARCTL formulas\n",
    "\n",
    "ARCTL is a variant of CTL where quantifiers apply to a subset of actions. For instance `A{a|b}X Sd` is like `AX Sd` but only considering actions `a` or `b`. These actions are specified in the `rr` model by adding labels to rules or constraints, for instance in our termites model, we could label some rules with a letter indicating the main actor involved into each rule:\n",
    "\n",
    "```\n",
    "    [r] Rp+ >> Ec+\n",
    "    [r] Rp+, Ec+ >> Wk+\n",
    "    [w] Wk+ >> Wd+, Te+, Fg+, Ec+\n",
    "    [w] Wk+, Wd+ >> Sd+, Rp+\n",
    "    [w] Wk+, Te+ >> Wd-\n",
    "        Wd- >> Wk-, Te-\n",
    "        Wk- >> Fg-, Sd-\n",
    "        Wk-, Rp- >> Ec-\n",
    "    [a] Ac+, Sd- >> Wk-, Rp-\n",
    "\n",
    "```\n",
    "\n",
    "In general, labels are indicated into square brackets and are given as a comma separated list of words. For instance `[foo,bar,42]` would label a rule with actions`foo`, `bar`, and `42`. Actions are optional both in the `rr` syntax and the ARCTL syntax. In ARCTL, actions are specified through Boolean expressions constructed using the actions as atoms connected with the Boolean operators `&`, `|`, `=>`, `<=>`, and `~`, as well as parentheses.\n",
    "\n",
    "#### Examples\n",
    "\n",
    " * **TODO**\n",
    "\n",
    "### States formulas\n",
    "\n",
    "A state formula allows to select a sets of states based on their features, but, contrary to (AR)CTL, with no reference to the successor states in the execution. Syntax is as follows:\n",
    " * the atoms are\n",
    "   * a variable name as `Wk` which means that we want all the states in which `Wk` is on\n",
    "   * a rule name as `R3` (or a constraint name as `C1`) which means that we want all the states in which the rule is enabled (ie, may be executed)\n",
    "   * `DEAD` is the set of deadlocks\n",
    "   * `INIT` is the set of initial states\n",
    "   * `HULL` is the SCC hull\n",
    "   * `TRANSIENT` is the set of transient states (i.e. those that enable a constraint)\n",
    "   * `ALL` is the set of all reachable states\n",
    " * the operations are\n",
    "   * `~expr` (NOT) which mean that we want all the states that are not represented by `expr`\n",
    "   * `left | right` (OR) which means that we want all the states that are in `left`, `right`, or both\n",
    "   * `left & right` (AND) which means that we want all the states that are both in `left` and `right`\n",
    "   * `left ^ right` (XOR) which means that we want all the states that are either in `left` or `right` but not in both\n",
    "   * `(expr)` to group sub-expressions and enforce operators priorities\n",
    " * some builtin functions may be applied to sets of states expressions:\n",
    "   * `succ_R0(expr)` (resp. `pred_R0(expr)`) returns the successor (resp. predecessor) states of `expr` through rules `R0`, one such function exists for each rule or constraint\n",
    "   * `hull(expr)` returns the convex hull of `expr`\n",
    "   * `comp(expr)` returns the complement set of `expr`\n",
    "   * `succ(expr)` returns the successors states of `expr`\n",
    "   * `succ_s` is the least fixed point of `succ`\n",
    "   * `succ_o` is the greatest fixed point of `succ`\n",
    "   * `pred`, `pred_s`, and `pred_o` are similarly defined\n",
    "   * `entries(expr)` is the set of states from `expr` that can be reached from its outside in one transition\n",
    "   * `exit(expr)` is the set of states from `expr` that allow to leave it in one transition\n",
    "   * `oneway(trans, expr)` is the set of states that can be reached by first firing `trans` (a rule or constraint name) and then arbitrary transitions; if `expr` is ommitted `ALL` is considered; an error is rased if `trans` is not a one-way action\n",
    "   \n",
    "#### Examples\n",
    "\n",
    " * `(Rp & ~Wk) | (R2 & ~R1)` represents all the states in which `Rp` is on and `Wk` of, plus all the states from which `R2` but not `R1` can be executed\n",
    "\n",
    "### Fairness constraints\n",
    "\n",
    "**TODO**\n",
    "\n",
    "## Merging components\n",
    "\n",
    "Components may be also merged using method `merge` whose arguments are the components numbers to be merged."
   ]
  },
  {
   "cell_type": "code",
   "execution_count": 13,
   "metadata": {
    "scrolled": false
   },
   "outputs": [
    {
     "data": {
      "application/vnd.jupyter.widget-view+json": {
       "model_id": "653dc333f65444f0a155bfe2d248b8f5",
       "version_major": 2,
       "version_minor": 0
      },
      "text/plain": [
       "VBox(children=(HBox(children=(Dropdown(description='Layout', index=2, options=('PCA', 'dot', 'neato', 'fdp', '…"
      ]
     },
     "metadata": {},
     "output_type": "display_data"
    }
   ],
   "source": [
    "g3 = g2.merge(1,3)\n",
    "g3.draw(fig_height=300)"
   ]
  },
  {
   "cell_type": "markdown",
   "metadata": {},
   "source": [
    "## To be continued\n",
    "\n",
    "Soon here: more information about split, merge, using formulas, tags, and aliases..."
   ]
  },
  {
   "cell_type": "markdown",
   "metadata": {},
   "source": [
    "# Explicit analysis\n",
    "\n",
    "A component graph in `ecco` may completely or partially explicited, ie, all or just some of its components may be split into their individual states. For example below, we explicit component `5` in `g2`:"
   ]
  },
  {
   "cell_type": "code",
   "execution_count": 7,
   "metadata": {},
   "outputs": [
    {
     "data": {
      "application/vnd.jupyter.widget-view+json": {
       "model_id": "cc4ca4ebd57f4d6da7f275e45e7f620e",
       "version_major": 2,
       "version_minor": 0
      },
      "text/plain": [
       "VBox(children=(HBox(children=(Dropdown(description='Layout', index=2, options=('PCA', 'dot', 'neato', 'fdp', '…"
      ]
     },
     "metadata": {},
     "output_type": "display_data"
    }
   ],
   "source": [
    "x = g2.explicit(5)\n",
    "x.draw()"
   ]
  },
  {
   "cell_type": "code",
   "execution_count": null,
   "metadata": {},
   "outputs": [],
   "source": []
  }
 ],
 "metadata": {
  "kernelspec": {
   "display_name": "Python 3",
   "language": "python",
   "name": "python3"
  },
  "language_info": {
   "codemirror_mode": {
    "name": "ipython",
    "version": 3
   },
   "file_extension": ".py",
   "mimetype": "text/x-python",
   "name": "python",
   "nbconvert_exporter": "python",
   "pygments_lexer": "ipython3",
   "version": "3.8.8"
  }
 },
 "nbformat": 4,
 "nbformat_minor": 2
}
