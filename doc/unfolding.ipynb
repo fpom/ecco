{
 "cells": [
  {
   "cell_type": "markdown",
   "id": "ea02c65e-a451-4879-8790-a8421839b94b",
   "metadata": {},
   "source": [
    "# Building unfoldings of the Petri nets semantics\n",
    "\n",
    "Translating a model into a Petri net is useful mainly to build its unfoding.\n",
    "To do so, `ecco` calls [`ecofolder`](https://github.com/giannkas/ecofolder).\n",
    "The resulting unfoldings may be displayed as acyclic Petri nets or as event structures, the latter being usually more readable.\n",
    "\n",
    "Because unfoldings are usually large to display, we use here a very small model:"
   ]
  },
  {
   "cell_type": "code",
   "execution_count": 6,
   "id": "6a525d27-922c-452b-a182-a7b83f9072d8",
   "metadata": {},
   "outputs": [
    {
     "data": {
      "application/vnd.jupyter.widget-view+json": {
       "model_id": "92c5780273494587886244808f98b163",
       "version_major": 2,
       "version_minor": 0
      },
      "text/plain": [
       "HTML(value=\"<pre style='line-height:140%'><span style='color:#008; font-weight:bold;'>agents:</span>\\n    <spa…"
      ]
     },
     "metadata": {},
     "output_type": "display_data"
    }
   ],
   "source": [
    "%run -m ecco pond.rr\n",
    "model.rr"
   ]
  },
  {
   "cell_type": "markdown",
   "id": "00373da1-ec31-483a-a95f-42dd7148dfe1",
   "metadata": {},
   "source": [
    "Calling `model.unfold()` will:\n",
    "\n",
    " * build the appropriate Petri net semantics of the model\n",
    " * call `ecofolder` to unfold it\n",
    " * load the unfolding as an event structure and display it"
   ]
  },
  {
   "cell_type": "code",
   "execution_count": 4,
   "id": "8a6360d5-7a7f-4796-880e-f90583a13647",
   "metadata": {},
   "outputs": [
    {
     "data": {
      "application/vnd.jupyter.widget-view+json": {
       "model_id": "2d63443560334ff383d312be6eca3ce1",
       "version_major": 2,
       "version_minor": 0
      },
      "text/plain": [
       "VBox(children=(Accordion(children=(VBox(children=(HBox(children=(Dropdown(description='layout', index=4, optio…"
      ]
     },
     "metadata": {},
     "output_type": "display_data"
    }
   ],
   "source": [
    "model.unfold()"
   ]
  },
  {
   "cell_type": "markdown",
   "id": "c52704b2-dc31-4ddb-beae-298d7361193c",
   "metadata": {},
   "source": [
    "In the picture above, events are coloured in\n",
    "\n",
    " * light blue if they are cutoff events\n",
    " * dark blue otherwise\n",
    " * the white event at the top is the dummy root event that starts the system.\n",
    "\n",
    "Arcs may be either directed solid arcs to represent causality, or undirected dotted lines to represent conflicts.\n",
    "\n",
    "It is possible as well to display the unfolding itself, that is an acyclic Petri net:"
   ]
  },
  {
   "cell_type": "code",
   "execution_count": 5,
   "id": "05b3450b-e6b8-42c9-a6ca-e7a1009a5190",
   "metadata": {},
   "outputs": [
    {
     "data": {
      "application/vnd.jupyter.widget-view+json": {
       "model_id": "3e1e6b95c6c647189180a215dc28e796",
       "version_major": 2,
       "version_minor": 0
      },
      "text/plain": [
       "VBox(children=(Accordion(children=(VBox(children=(HBox(children=(Dropdown(description='layout', index=4, optio…"
      ]
     },
     "metadata": {},
     "output_type": "display_data"
    }
   ],
   "source": [
    "model.unfold(events=False)"
   ]
  },
  {
   "cell_type": "markdown",
   "id": "480a3449-d261-4f5a-aa41-327c0d223dee",
   "metadata": {},
   "source": [
    "Note that in this representation, redundant conditions has been aggregated by `ecofolder`.\n",
    "This can be avoided using option `compress=False` when calling `unfold()`, when `events=True` (default), this option has no visible effect since conditions are removed from the event structure, may they be agglomerated or not.\n",
    "\n",
    "In the picture above, evens are coloured as above, and conditions are coloured as follows:\n",
    "\n",
    " * a green condition corresponds to a marked place\n",
    " * a red condition corresponds to an empty place\n",
    " * all colours in between correspond to groups of places, some marked and some not, the colour ranges from red to green and corresponds to the proportion of marked places"
   ]
  },
  {
   "cell_type": "code",
   "execution_count": null,
   "id": "dd4e30ba-b1d1-4878-86c2-93d3648bc097",
   "metadata": {},
   "outputs": [],
   "source": []
  }
 ],
 "metadata": {
  "kernelspec": {
   "display_name": "Python 3 (ipykernel)",
   "language": "python",
   "name": "python3"
  },
  "language_info": {
   "codemirror_mode": {
    "name": "ipython",
    "version": 3
   },
   "file_extension": ".py",
   "mimetype": "text/x-python",
   "name": "python",
   "nbconvert_exporter": "python",
   "pygments_lexer": "ipython3",
   "version": "3.10.12"
  }
 },
 "nbformat": 4,
 "nbformat_minor": 5
}
