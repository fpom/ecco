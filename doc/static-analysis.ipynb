{
 "cells": [
  {
   "cell_type": "markdown",
   "metadata": {},
   "source": [
    "# `ecco` static analysis\n",
    "\n",
    "In this notebook we see how a `rr` model can be analysed without resorting to the computation of its state-space.\n",
    "\n",
    "First, we start `ecco` and load our termites `rr` model:"
   ]
  },
  {
   "cell_type": "code",
   "execution_count": 1,
   "metadata": {},
   "outputs": [],
   "source": [
    "%run -m ecco termites.rr"
   ]
  },
  {
   "cell_type": "markdown",
   "metadata": {},
   "source": [
    "## Variables characterization\n",
    "\n",
    "A variable is called _characterized_ if it appears on both sides of some rules. If it appears always on the same side of rules, it is called _semi-characterized_. If it does not appear in rules, then the variable is not used at all and could be removed. Variables characterization may be useful as a sanity check of a large model as a semi-characterized variables has no influence on the model's behaviour, which may contradict the reason why it was introduced in the first place.\n",
    "\n",
    "Variable characterization can be computed as a matrix using method `model.charact`:"
   ]
  },
  {
   "cell_type": "code",
   "execution_count": 4,
   "metadata": {},
   "outputs": [
    {
     "data": {
      "text/html": [
       "<div>\n",
       "<style scoped>\n",
       "    .dataframe tbody tr th:only-of-type {\n",
       "        vertical-align: middle;\n",
       "    }\n",
       "\n",
       "    .dataframe tbody tr th {\n",
       "        vertical-align: top;\n",
       "    }\n",
       "\n",
       "    .dataframe thead th {\n",
       "        text-align: right;\n",
       "    }\n",
       "</style>\n",
       "<table border=\"1\" class=\"dataframe\">\n",
       "  <thead>\n",
       "    <tr style=\"text-align: right;\">\n",
       "      <th></th>\n",
       "      <th>init</th>\n",
       "      <th>left_0</th>\n",
       "      <th>left_1</th>\n",
       "      <th>right_0</th>\n",
       "      <th>right_1</th>\n",
       "    </tr>\n",
       "  </thead>\n",
       "  <tbody>\n",
       "    <tr>\n",
       "      <td>Ac</td>\n",
       "      <td>1</td>\n",
       "      <td>0</td>\n",
       "      <td>1</td>\n",
       "      <td>0</td>\n",
       "      <td>0</td>\n",
       "    </tr>\n",
       "    <tr>\n",
       "      <td>Ec</td>\n",
       "      <td>0</td>\n",
       "      <td>0</td>\n",
       "      <td>1</td>\n",
       "      <td>1</td>\n",
       "      <td>2</td>\n",
       "    </tr>\n",
       "    <tr>\n",
       "      <td>Fg</td>\n",
       "      <td>0</td>\n",
       "      <td>1</td>\n",
       "      <td>0</td>\n",
       "      <td>1</td>\n",
       "      <td>1</td>\n",
       "    </tr>\n",
       "    <tr>\n",
       "      <td>Rp</td>\n",
       "      <td>1</td>\n",
       "      <td>1</td>\n",
       "      <td>2</td>\n",
       "      <td>1</td>\n",
       "      <td>1</td>\n",
       "    </tr>\n",
       "    <tr>\n",
       "      <td>Sd</td>\n",
       "      <td>0</td>\n",
       "      <td>1</td>\n",
       "      <td>0</td>\n",
       "      <td>1</td>\n",
       "      <td>1</td>\n",
       "    </tr>\n",
       "    <tr>\n",
       "      <td>Te</td>\n",
       "      <td>0</td>\n",
       "      <td>0</td>\n",
       "      <td>1</td>\n",
       "      <td>2</td>\n",
       "      <td>1</td>\n",
       "    </tr>\n",
       "    <tr>\n",
       "      <td>Wd</td>\n",
       "      <td>0</td>\n",
       "      <td>1</td>\n",
       "      <td>1</td>\n",
       "      <td>1</td>\n",
       "      <td>1</td>\n",
       "    </tr>\n",
       "    <tr>\n",
       "      <td>Wk</td>\n",
       "      <td>0</td>\n",
       "      <td>2</td>\n",
       "      <td>3</td>\n",
       "      <td>2</td>\n",
       "      <td>1</td>\n",
       "    </tr>\n",
       "  </tbody>\n",
       "</table>\n",
       "</div>"
      ],
      "text/plain": [
       "    init  left_0  left_1  right_0  right_1\n",
       "Ac     1       0       1        0        0\n",
       "Ec     0       0       1        1        2\n",
       "Fg     0       1       0        1        1\n",
       "Rp     1       1       2        1        1\n",
       "Sd     0       1       0        1        1\n",
       "Te     0       0       1        2        1\n",
       "Wd     0       1       1        1        1\n",
       "Wk     0       2       3        2        1"
      ]
     },
     "execution_count": 4,
     "metadata": {},
     "output_type": "execute_result"
    }
   ],
   "source": [
    "model.charact()"
   ]
  },
  {
   "cell_type": "markdown",
   "metadata": {},
   "source": [
    "In this matrix, the rows are indexed by the variables and the columns are has follows:\n",
    "\n",
    " * `init` is the initial state of the variable\n",
    " * `left_0` counts how many time the variable appears as `-` in the left-hand side of a rule\n",
    " * `left_1` counts how many time the variable appears as `+` in the left-hand side of a rule\n",
    " * `right_0` counts how many time the variable appears as `-` in the right-hand side of a rule\n",
    " * `right_1` counts how many time the variable appears as `+` in the right-hand side of a rule\n",
    "\n",
    "We can see here that `Ac` is semi-characterized. So it has no influence on the model's beaviour and could be removed, however, it serves as an explanation for the meaning of rule R9 `Ac+, Sd- >> Wk-, Rp-`: without `Ac+` in this rule, one could think that the absence of soldiers may be the cause of the death of the other termites. So, if a semi-characterized variable is not involved in the dynamics, it may have a crucial role for the understanding of the model. Note also that it will not introduce extra combinatorial that could make the state-space grow artificially.\n",
    "\n",
    "Method `draw_charact` uses the matrix returned by `charact` to display a plot bar of the nodes characterisation:"
   ]
  },
  {
   "cell_type": "code",
   "execution_count": 7,
   "metadata": {
    "scrolled": true
   },
   "outputs": [
    {
     "data": {
      "application/vnd.jupyter.widget-view+json": {
       "model_id": "d1a6c12f86d747ac930278882a93ee0c",
       "version_major": 2,
       "version_minor": 0
      },
      "text/plain": [
       "VBox(children=(Figure(axes=[Axis(grid_lines='none', offset={'scale': LinearScale(max=10.0, min=-1.0), 'value':…"
      ]
     },
     "metadata": {},
     "output_type": "display_data"
    }
   ],
   "source": [
    "model.draw_charact()"
   ]
  },
  {
   "cell_type": "markdown",
   "metadata": {},
   "source": [
    "## Inlining constraints\n",
    "\n",
    "Method `model.inline` allows to suppress constraints by inlining them into the rules. The idea is that each rule that may enable the execution of a constraint to be inlined is augmented with the right-hand side of the constraint, and possibly with its left-hand side if the rule's condition is not larger that the constraint's condition. Because of the possible augmentation of the left-hand side, a rule may be transformed into several: one that fully validates the condition of the constraint, and (potentially) several that do not validate it. For instance, is we have a constraint is `A+, B+, C+ >> X+` and a rule `A+ >> Z+`, then the rule may yield a state with `A+` that potentially validates the constraints condition. Thus, it will be converted into several rules:\n",
    "\n",
    "```\n",
    "A+, B+, C+ >> X+, Z+  # constraint enabled and thus inlined\n",
    "A+, B- >> X+          # constraint not enabled because of B\n",
    "A+, C- >> X+          # constraint not enabled because of C\n",
    "```\n",
    "\n",
    "In our termites model, inlining constraint C1 just results in replacing rule R7 which is the only one that creates the condition to execute C1. We can proceed as follows:"
   ]
  },
  {
   "cell_type": "code",
   "execution_count": 10,
   "metadata": {},
   "outputs": [
    {
     "data": {
      "application/vnd.jupyter.widget-view+json": {
       "model_id": "d9f4fd4a48004f35901ab969452c379c",
       "version_major": 2,
       "version_minor": 0
      },
      "text/plain": [
       "HTML(value=\"<pre style='line-height:140%'><span style='color:#008; font-weight:bold;'>inhabitants:</span>\\n   …"
      ]
     },
     "metadata": {},
     "output_type": "display_data"
    }
   ],
   "source": [
    "inlined = model.inline(\"termites-inlined.rr\", \"C1\", overwrite=True)\n",
    "inlined.rr"
   ]
  },
  {
   "cell_type": "markdown",
   "metadata": {},
   "source": [
    "The arguments to `model.inline` are: a file name where the new `rr` model has to be saved, a series of constraints to be inlined, and optionally `overwrite=True` to force overwriting the saved `rr` file if it exists already.\n",
    "\n",
    "Another method is `model.save` that expects a path to save a `rr` model, with an optional Boolean argument to force overwriting existing files.\n",
    "\n",
    "### Zeno executions and constraints inlining\n",
    "\n",
    "Finally, a model may be analyzed to detect its Zeno executions. This is not really done with static analysis as the state-space has to be computed symbolically. But this results in a diagnostic that does not allow to go further into dynamic exploration of the model. So we qualify it as a semi-dynamic method.\n",
    "\n",
    "A model is called Zeno if it has cyclic executions involving only constraints. This means that it will potentially stay forever into transient states, which somehow contradicts the intuition about transient states. However, there may be models in which Zeno executions can be considered as perfectly valid executions. In order to search for such executions, we can run method `model.zeno`:"
   ]
  },
  {
   "cell_type": "code",
   "execution_count": 15,
   "metadata": {},
   "outputs": [
    {
     "data": {
      "application/vnd.jupyter.widget-view+json": {
       "model_id": "1b625999cbc34b72b83aa8323ae2f526",
       "version_major": 2,
       "version_minor": 0
      },
      "text/plain": [
       "HBox(children=(HTML(value='<b>checking for Zeno executions</b>'), IntProgress(value=0, bar_style='info', max=5…"
      ]
     },
     "metadata": {},
     "output_type": "display_data"
    },
    {
     "data": {
      "application/vnd.jupyter.widget-view+json": {
       "model_id": "155d9949ebf84661aab4f9b391187684",
       "version_major": 2,
       "version_minor": 0
      },
      "text/plain": [
       "HTML(value='<p style=\"line-height:140%\"><span style=\"color:#008800; font-weight:bold;\">[info]</span> initial s…"
      ]
     },
     "metadata": {},
     "output_type": "display_data"
    }
   ],
   "source": [
    "model.zeno()"
   ]
  },
  {
   "cell_type": "markdown",
   "metadata": {},
   "source": [
    "It will print a diagnosis (here, the model is non-Zeno) and, if the model is found to be Zeno, witness cycles are displayed. An optional integer argument can be passed to control the maximum number of witnesses that will be returned (and displayed). When a model is Zeno, one way to change this is to inline the constraints that participate to Zeno cycles."
   ]
  }
 ],
 "metadata": {
  "kernelspec": {
   "display_name": "Python 3",
   "language": "python",
   "name": "python3"
  },
  "language_info": {
   "codemirror_mode": {
    "name": "ipython",
    "version": 3
   },
   "file_extension": ".py",
   "mimetype": "text/x-python",
   "name": "python",
   "nbconvert_exporter": "python",
   "pygments_lexer": "ipython3",
   "version": "3.7.4"
  }
 },
 "nbformat": 4,
 "nbformat_minor": 2
}
