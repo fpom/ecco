{
 "cells": [
  {
   "cell_type": "markdown",
   "metadata": {},
   "source": [
    "# `ecco` modelling language\n",
    "\n",
    "In this notebook we see how to model an ecosystem using the _reaction rules_ language, aka `rr`.\n",
    "As an example, we consider the model of a termites colony that is a variation of that presented in [DOI:10.1111/2041-210X.13242](https://doi.org/10.1111/2041-210X.13242).\n",
    "Below we use a ready made model that one can find in [`termites.rr`](termites.rr) in `doc` directory along with this notebook. This file may be edited directly, but instead we load it into `ecco` in order to examine its content and show its graphical representations.\n",
    "\n",
    "## Start `ecco` and load a `rr` model\n",
    "\n",
    "First of all, we start `ecco`, passing to it the name of the `rr` file we want to load:"
   ]
  },
  {
   "cell_type": "code",
   "execution_count": 1,
   "metadata": {},
   "outputs": [],
   "source": [
    "%run -m ecco termites.rr"
   ]
  },
  {
   "cell_type": "markdown",
   "metadata": {},
   "source": [
    "This creates an object `model` that deals with the static aspects of the `rr` model.\n",
    "To display help about this object, type `model?` in a code cell, or `model.method?` to display the help about a specific method.\n",
    "\n",
    "## Displaying the model\n",
    "\n",
    "Property `model.rr` displays the `rr` source code:"
   ]
  },
  {
   "cell_type": "code",
   "execution_count": 2,
   "metadata": {},
   "outputs": [
    {
     "data": {
      "application/vnd.jupyter.widget-view+json": {
       "model_id": "d513b1cafc7b40cbb931cec937d89ab8",
       "version_major": 2,
       "version_minor": 0
      },
      "text/plain": [
       "HTML(value=\"<pre style='line-height:140%'><span style='color:#008; font-weight:bold;'>inhabitants:</span>\\n   …"
      ]
     },
     "metadata": {},
     "output_type": "display_data"
    }
   ],
   "source": [
    "model.rr"
   ]
  },
  {
   "cell_type": "markdown",
   "metadata": {},
   "source": [
    "A model consists of a series of sections, each has a name followed by a colon and an indented block that is its content. The first sections have freely chosen names (above `inhabitants`, `structures`, `resources`, and `competitors`) and define the variables of the models, the two last sections (`constraints` and `rules`) define the evolution rules of the model.\n",
    "\n",
    "### Comments\n",
    "\n",
    "Character `#` introduces a comment that extends until the end of the line. When a model is displayed by `ecco` as above, a comment is added to give a name to every rule orconstraint as shown above.\n",
    "\n",
    "### Variables\n",
    "\n",
    "A model has Boolean variables, each of which having a name, an initial state, and a description. For instance, `Rp+: reproductive` defines a variable called `Rp`, whose initial state is on (`+`), and whose description is `reproductives`. Similarly, `Wk-: workers` defines a variable called `Wk`, whose initial state is off (`-`), and whose description is `workers`. Separating the variables definitions into sections and providing descriptions has no consequences on the semantics but may be useful to clarify the model.\n",
    "\n",
    "### Evolution rules\n",
    "\n",
    "Each rule or constraint describes a possible evolution in the system and consists of a left-hand side that is a condition for its execution, and a right-hand side that is an assignement of some variables to be done upon the execution of the rule or constraint. For instance, rule `Ac+, Sd- >> Wk-, Rp-` has left-hand side `Ac+, Sd-` that states that the rule may be executed when variable `Ac` is on and variable `Sd` is off, and a right-had side `Wk-, Rp-` that states that if the rule is executed, then `Wk` and `Rp` are both set to off (regardless of their previous state). This could be read as _when ant competitors are present and no soldier is present, workers and reproductives may be killed_, but this could be as well interpreted as _when too much ant competitors are present and not enough soldiers are present, then most workers and reproductives may be killed_ which is a more quantitative interpretation of the Boolean setting.\n",
    "\n",
    "### Constraints vs rules\n",
    "\n",
    "The only difference between constraints and rules is that the former have a higher priority than the latter: if a constraint can be executed then no rule is allowed to be executed, or in other words, a rule can be executed only if no constraint can. A model may have no constraints in which case the corresponding section is completely omitted. Constraints are usually used to model quick or mandatory processes in an ecosystem, typically, when then place where some species live disappear, then the species have to disappear has well (eg, fishes in a pond will die if the pond dries). In our termites example, termitomicies cannot exist without a fungal garden, hence the constraint.\n",
    "\n",
    "## Graphical representations of a `rr` model\n",
    "\n",
    "Method `ecograph` displays the _ecosystemic graph_ (that is, an influence graph whose nodes are the variables and whose edges represent the influence of one node onto another). Try to type `model.ecograph?` to discover the many available options.\n",
    "\n",
    "Graphs are interactive:\n",
    " * moving the mouse pointer over a node highlights its arcs\n",
    " * clicking on nodes selects them and displays their attached information in the tabs below the graph\n",
    " * clicking on the background unselects all nodes\n",
    " * various dropdown menus allow to change visual attributes:\n",
    "   * Layout: select a layout engine to compute the nodes' positions\n",
    "   * Labels: select which column (from the table displayed upon nodes selection) is used to print nodes labels\n",
    "   * Color: select which column is used to select the color of node\n",
    "   * Shape: select which column is used to chose a shape for nodes\n",
    "   * Palette: select the colour palette from which nodes colors are picked\n",
    "   * Size: select the nodes size\n",
    " * below the graph, a tool bar allow to\n",
    "   * pan/zoom the graph: click the left button and then pan the graph by dragging it, or zoom with the mouse wheel; click again this button to disable pan/zoom\n",
    "   * reset pan/zoom to the original values\n",
    "   * save graph as a PNG image\n",
    " * below the tool bar, two tabs display the selected nodes/edges information as explained above; a third tab allows to move the selected nodes using sliders"
   ]
  },
  {
   "cell_type": "code",
   "execution_count": 3,
   "metadata": {},
   "outputs": [
    {
     "data": {
      "application/vnd.jupyter.widget-view+json": {
       "model_id": "1350f651fccd46aeb6d0eb6f78556e2b",
       "version_major": 2,
       "version_minor": 0
      },
      "text/plain": [
       "VBox(children=(HBox(children=(Dropdown(description='Layout', index=4, options=('dot', 'neato', 'fdp', 'twopi',…"
      ]
     },
     "metadata": {},
     "output_type": "display_data"
    }
   ],
   "source": [
    "model.ecograph()"
   ]
  },
  {
   "cell_type": "markdown",
   "metadata": {},
   "source": [
    "Method `model.ecohyper` displays the _ecosystemic hypergraph_ that is another graphical representation of the `rr` model. This is a more precise representation that actually loses only the description of the variables and their dispatching into sections (these informations are actually only for the modeller but carry no semantical meaning). In this representation, round-shaped nodes are the variables, and square-shaped nodes are the rules and constraints (the latter being displayed with a yellow background). An edge links a rule/constraint with each variables that is used in it, a white (resp. black) dot represents a sign `-` (resp. `+`), and the left-hand side of the rule corresponds to the rule-side of the edge, while the right-hand side corresponds to the variable-side of the edge. See for instance how rule R9, that is `Ac+, Sd- >> Wk-, Rp-` is rendered."
   ]
  },
  {
   "cell_type": "code",
   "execution_count": 4,
   "metadata": {},
   "outputs": [
    {
     "data": {
      "application/vnd.jupyter.widget-view+json": {
       "model_id": "ca8975b0fcde487b9c818a44c1a09bd1",
       "version_major": 2,
       "version_minor": 0
      },
      "text/plain": [
       "VBox(children=(HBox(children=(Dropdown(description='Layout', index=2, options=('dot', 'neato', 'fdp', 'twopi',…"
      ]
     },
     "metadata": {},
     "output_type": "display_data"
    }
   ],
   "source": [
    "model.ecohyper()"
   ]
  },
  {
   "cell_type": "markdown",
   "metadata": {},
   "source": [
    "## Semantics\n",
    "\n",
    "A rule or constraint may be executed from a state `s` if its left-hand side is validated by `s`. For example, in the initial state of our termites model (that could be written as `{Rp+, Ac+}`, all the other variables being off), only rules `Rp+ >> Ec+` and `Ac+, Sd- >> Wk-, Rp-` may be executed. Executing a rule or constraint yields a state that is obtained by assigning the variables as instructed by the right-hand side of the executed rule of constraint. For instance, executing `Rp+ >> Ec+` from the initial state `{Rp+, Ac+}` yields state `{Rp+, Ac+, Ec+}`, while executing `Ac+, Sd- >> Wk-, Rp-` from the same state yields state `{Ac+}`.\n",
    "\n",
    "The semantics of a `rr` model is a state-space, that is a graph whose nodes are the states that can be reached by executing rules or constraints, and whose edges are labelled with the rules or constraints allowing to reach one state from another. It can be constructed as follows:\n",
    "\n",
    " * the initial state, as described in the `rr` model, is a node of state-space\n",
    " * if `s` is a state and `c` is a constraint that can be executed from `s` yielding a new state `s'` distinct from `s`, then there is an edge `s -> s'` labelled by `c` in the state-space\n",
    " * if `s` is a state such that no constraint can be executed from it, and if `r` is a rule that can be executed from `s` yielding a new state `s'` distinct from `s`, then there is an edge `s -> s'` labelled by `r` in the state-space\n",
    "\n",
    "Note that above we required `s` to be distinct from `s'` and thus we have no edges `s -> s` in a state-space (so called side-loops).\n",
    "\n",
    "### Transient states\n",
    "\n",
    "A state that enables a constraint is called _transient_, it can be seen as a state that the ecosystem can reach but only for a short period of time. In a state-space analysis, transient states may be kept or removed, depending on what one wants to observe."
   ]
  }
 ],
 "metadata": {
  "kernelspec": {
   "display_name": "Python 3",
   "language": "python",
   "name": "python3"
  },
  "language_info": {
   "codemirror_mode": {
    "name": "ipython",
    "version": 3
   },
   "file_extension": ".py",
   "mimetype": "text/x-python",
   "name": "python",
   "nbconvert_exporter": "python",
   "pygments_lexer": "ipython3",
   "version": "3.8.8"
  }
 },
 "nbformat": 4,
 "nbformat_minor": 2
}
