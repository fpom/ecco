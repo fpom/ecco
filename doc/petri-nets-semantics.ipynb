{
 "cells": [
  {
   "cell_type": "markdown",
   "id": "ff9ad87d",
   "metadata": {},
   "source": [
    "# Petri nets semantics of RR\n",
    "\n",
    "The translation from RR to Petri nets is detailled in [DOI:10.1007/978-3-031-06653-5_10](https://doi.org/10.1007/978-3-031-06653-5_10). Here we present the corresponding implementation and related features.\n",
    "\n",
    "RR models can be translated into two classes of 1-safe Petri nets:\n",
    " * _Priority Petri nets_ (_PPN_) that are Petri nets extended with priorities to implement constraints\n",
    " * _Extended Petri nets_ (_EPN_) that are PPN further extended with read-, reset-, and inhibutor-arcs\n",
    " \n",
    "Both classes are considered in [DOI:10.1007/978-3-031-06653-5_10](https://doi.org/10.1007/978-3-031-06653-5_10), a third intermediary one is added in the implementation:\n",
    " * _eXtended Petri nets_ (_XPN_) and consists of EPN without inhibitor arcs, instead we use complementary places to implement them\n",
    "This latter class allows unfolding of Petri nets using [`ecofolder`](https://github.com/giannkas/ecofolder).\n",
    "\n",
    "To translate a loaded model into Petri nets, just call its method `petri`. For instance:"
   ]
  },
  {
   "cell_type": "code",
   "execution_count": 1,
   "id": "0e8f7e39",
   "metadata": {},
   "outputs": [],
   "source": [
    "%run -m ecco termites.rr\n",
    "epn = model.petri(\"epn\")"
   ]
  },
  {
   "cell_type": "markdown",
   "id": "5e343753",
   "metadata": {},
   "source": [
    "The resulting Petri net object can be exported to:\n",
    " * `PEP` format (with extensions) using method `to_pep(stream)`\n",
    " * `TINA` format (which does not support reset arcs) using method `to_tina(stream)`\n",
    " * a pair for nodes/edges Pandas tables, using method `to_tables`\n",
    "\n",
    "where `stream` is a text file opened for writing. The Petri net may be drawn as well:"
   ]
  },
  {
   "cell_type": "code",
   "execution_count": 2,
   "id": "286ac731",
   "metadata": {},
   "outputs": [
    {
     "data": {
      "application/vnd.jupyter.widget-view+json": {
       "model_id": "1d0afbfb871a423dadc84adcf86cd66c",
       "version_major": 2,
       "version_minor": 0
      },
      "text/plain": [
       "VBox(children=(Accordion(children=(VBox(children=(HBox(children=(Dropdown(description='layout', index=3, optio…"
      ]
     },
     "metadata": {},
     "output_type": "display_data"
    }
   ],
   "source": [
    "epn.draw()"
   ]
  },
  {
   "cell_type": "markdown",
   "id": "7ed85e67",
   "metadata": {},
   "source": [
    "An XPN may be also unfolded. The resulting unfolding may be drawn like another Petri net, but usually it is too big to result in something readable."
   ]
  },
  {
   "cell_type": "code",
   "execution_count": 4,
   "id": "2be9817a",
   "metadata": {},
   "outputs": [],
   "source": [
    "xpn = model.petri(\"xpn\")\n",
    "unf = xpn.unfold()"
   ]
  },
  {
   "cell_type": "markdown",
   "id": "4bf8d988",
   "metadata": {},
   "source": [
    "The unfolding can then be translated to an event structure. Like the unfolding it can be drawn but likely in a very unreadable way."
   ]
  },
  {
   "cell_type": "code",
   "execution_count": 8,
   "id": "3d5dd138",
   "metadata": {},
   "outputs": [],
   "source": [
    "es = unf.es()"
   ]
  },
  {
   "cell_type": "code",
   "execution_count": null,
   "id": "0055b70a",
   "metadata": {},
   "outputs": [],
   "source": []
  }
 ],
 "metadata": {
  "kernelspec": {
   "display_name": "Python 3",
   "language": "python",
   "name": "python3"
  },
  "language_info": {
   "codemirror_mode": {
    "name": "ipython",
    "version": 3
   },
   "file_extension": ".py",
   "mimetype": "text/x-python",
   "name": "python",
   "nbconvert_exporter": "python",
   "pygments_lexer": "ipython3",
   "version": "3.8.8"
  }
 },
 "nbformat": 4,
 "nbformat_minor": 5
}
